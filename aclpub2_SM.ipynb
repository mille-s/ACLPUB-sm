{
  "nbformat": 4,
  "nbformat_minor": 0,
  "metadata": {
    "colab": {
      "provenance": [],
      "collapsed_sections": [
        "OI4Nzg2yQ8cC"
      ],
      "authorship_tag": "ABX9TyNwqhXxkmWmrVICa5P5b+Zz",
      "include_colab_link": true
    },
    "kernelspec": {
      "name": "python3",
      "display_name": "Python 3"
    },
    "language_info": {
      "name": "python"
    }
  },
  "cells": [
    {
      "cell_type": "markdown",
      "metadata": {
        "id": "view-in-github",
        "colab_type": "text"
      },
      "source": [
        "<a href=\"https://colab.research.google.com/github/mille-s/ACLPUB-sm/blob/main/aclpub2_SM.ipynb\" target=\"_parent\"><img src=\"https://colab.research.google.com/assets/colab-badge.svg\" alt=\"Open In Colab\"/></a>"
      ]
    },
    {
      "cell_type": "code",
      "source": [
        "# Run for getting yml files and generating proceedings\n",
        "! git clone https://github.com/rycolab/aclpub2.git\n",
        "! pip install -r '/content/aclpub2/softconf/requirements.txt'"
      ],
      "metadata": {
        "id": "ZJPlj8bPlUwU"
      },
      "execution_count": null,
      "outputs": []
    },
    {
      "cell_type": "markdown",
      "source": [
        "# Get yml files from SoftConf"
      ],
      "metadata": {
        "id": "KIcZm3X4lcsw"
      }
    },
    {
      "cell_type": "code",
      "source": [
        "import codecs\n",
        "\n",
        "# Create config file\n",
        "\n",
        "config_file_path = '/content/aclpub2/softconf/config.json'\n",
        "script_path = '/content/aclpub2/softconf/softconf2aclpub.py'\n",
        "\n",
        "# Read original config file\n",
        "config_file = open(config_file_path, 'r')\n",
        "lines_config_file = config_file.readlines()\n",
        "\n",
        "# Update config file\n",
        "with codecs.open(config_file_path, 'w', 'utf-8') as f:\n",
        "  for line in lines_config_file:\n",
        "    if line.startswith('\"conf\"'):\n",
        "      f.write('\"conf\" : \"inlg2023\",\\n')\n",
        "    elif line.startswith('\"track\"'):\n",
        "      f.write('\"track\" : \"GenerationChallenges\",\\n')\n",
        "    elif line.startswith('\"username\"'):\n",
        "      f.write('\"username\" : \"smille\",\\n')\n",
        "    elif line.startswith('\"password\"'):\n",
        "      f.write('\"password\" : \"xxxxx\",\\n')\n",
        "    elif line.startswith('\"service_program_committee\"'):\n",
        "      f.write('\"service_program_committee\" : \"https://softconf.com/n/inlg2023/cgi-bin/scmd.cgi?scmd=webservice&token=2T-D6D9H8G7E6A3B3B3C9A7\",\\n')\n",
        "    elif line.startswith('\"service_papers\"'):\n",
        "      f.write('\"service_papers\" : \"https://softconf.com/n/inlg2023/cgi-bin/scmd.cgi?scmd=webservice&token=1T-A2B6C3H3A2J4B2B3D9G6\"\\n')\n",
        "    else:\n",
        "      f.write(line)\n",
        "\n",
        "# Read original script\n",
        "script_file = open(script_path, 'r')\n",
        "lines_script_file = script_file.readlines()\n",
        "\n",
        "# Update script file\n",
        "with codecs.open(script_path, 'w', 'utf-8') as f:\n",
        "  for line in lines_script_file:\n",
        "    if line.startswith('with open(\"config.json\") as f:'):\n",
        "      f.write('with open(\"/content/aclpub2/softconf/config.json\") as f:\\n')\n",
        "    elif line.startswith('CONF_URL'):\n",
        "      f.write('CONF_URL = f\"{SOFTCONF_URL}/n/{config[\\'conf\\']}/track/{config[\\'track\\']}/\"\\n')\n",
        "    elif line.startswith('get_conference_details()'):\n",
        "      f.write('#get_conference_details()\\n')\n",
        "    elif line.startswith('get_files()'):\n",
        "      f.write('#get_files()\\n')\n",
        "    else:\n",
        "      f.write(line)"
      ],
      "metadata": {
        "id": "_L6KKOi6mKtj"
      },
      "execution_count": null,
      "outputs": []
    },
    {
      "cell_type": "code",
      "source": [
        "# Run export script\n",
        "# I could get the PC and the papers automatically, by commenting the \"get_conference_details()\" and \"get_files()\" at the end of softconf2aclpub.py, which seem to give errors\n",
        "\n",
        "path_script = '/content/aclpub2/softconf/softconf2aclpub.py'\n",
        "!python {path_script}"
      ],
      "metadata": {
        "id": "BpCpmTvGrl0-"
      },
      "execution_count": null,
      "outputs": []
    },
    {
      "cell_type": "markdown",
      "source": [
        "#Unzip uploaded file"
      ],
      "metadata": {
        "id": "4WmP85P6ZmxT"
      }
    },
    {
      "cell_type": "code",
      "source": [
        "# First drag and drop zip file with all yml files and papers to the local drive, then run this cell\n",
        "# See https://github.com/rycolab/aclpub2/tree/main#Testing-the-tool-to-generate-your-proceedings for details of the contents of the zip\n",
        "! unzip /content/proceedings.zip -d /content/proceedings"
      ],
      "metadata": {
        "id": "HrXGIZizZklB"
      },
      "execution_count": null,
      "outputs": []
    },
    {
      "cell_type": "markdown",
      "source": [
        "# Generate proceedings"
      ],
      "metadata": {
        "id": "bgNH04KnVGi6"
      }
    },
    {
      "cell_type": "code",
      "source": [
        "# Install tex compiler\n",
        "! pip install pdflatex\n",
        "! pip install pypdf\n",
        "! pip install roman\n",
        "! sudo apt-get install texlive-latex-base texlive-latex-recommended texlive-latex-extra texlive-fonts-recommended texlive-fonts-extra texlive-bibtex-extra"
      ],
      "metadata": {
        "id": "dFoxlUXrftQc"
      },
      "execution_count": null,
      "outputs": []
    },
    {
      "cell_type": "code",
      "source": [
        "! whereis latex"
      ],
      "metadata": {
        "colab": {
          "base_uri": "https://localhost:8080/"
        },
        "id": "o2vUt19BfdTw",
        "outputId": "5093b6b9-a6c8-4175-915a-baecaf9fbefd"
      },
      "execution_count": null,
      "outputs": [
        {
          "output_type": "stream",
          "name": "stdout",
          "text": [
            "latex: /usr/bin/latex /usr/share/man/man1/latex.1.gz\n"
          ]
        }
      ]
    },
    {
      "cell_type": "code",
      "source": [
        "# import os\n",
        "# os.environ['PATH'] += \"/usr/bin/latex\""
      ],
      "metadata": {
        "id": "SCMFhZjthkin"
      },
      "execution_count": null,
      "outputs": []
    },
    {
      "cell_type": "code",
      "source": [
        "import codecs\n",
        "import os\n",
        "from pdflatex import PDFLaTeX\n",
        "\n",
        "# Read main script\n",
        "main_path = '/content/aclpub2/bin/generate'\n",
        "main_file = open(main_path, 'r')\n",
        "lines_main_file = main_file.readlines()\n",
        "# Update main script to add path so it can import \"local\" modules\n",
        "with codecs.open(main_path, 'w', 'utf-8') as f:\n",
        "  for line in lines_main_file:\n",
        "    if line.startswith('import argparse'):\n",
        "      f.write('import argparse\\nimport sys\\nsys.path.insert(0,\"/content/aclpub2\")\\n')\n",
        "    else:\n",
        "      f.write(line)\n",
        "\n",
        "# Read main Py script\n",
        "main_Py_path = '/content/aclpub2/aclpub2/generate.py'\n",
        "main_Py_file = open(main_Py_path, 'r')\n",
        "lines_main_Py_file = main_Py_file.readlines()\n",
        "# Update main Python script to update deprecated parts\n",
        "with codecs.open(main_Py_path, 'w', 'utf-8') as f:\n",
        "  for line in lines_main_Py_file:\n",
        "    if line.startswith(r'from PyPDF2 import PdfFileReader'):\n",
        "      f.write(r'from pypdf import PdfReader')\n",
        "      f.write('\\n')\n",
        "    elif line.startswith(r'        pdf = PdfFileReader(str(pdf_path))'):\n",
        "      f.write(r'        pdf = PdfReader(str(pdf_path))')\n",
        "      f.write('\\n')\n",
        "    elif line.startswith(r'        paper[\"num_pages\"] = pdf.getNumPages()'):\n",
        "      f.write(r'        paper[\"num_pages\"] = len(pdf.pages)')\n",
        "      f.write('\\n')\n",
        "    elif line.startswith(r'        paper[\"end_page\"] = page + pdf.getNumPages() - 1'):\n",
        "      f.write(r'        paper[\"end_page\"] = page + len(pdf.pages) - 1')\n",
        "      f.write('\\n')\n",
        "    elif line.startswith(r'        page += pdf.getNumPages()'):\n",
        "      f.write(r'        page += len(pdf.pages)')\n",
        "      f.write('\\n')\n",
        "    else:\n",
        "      f.write(line)\n",
        "\n",
        "# Read latex template\n",
        "template_path = '/content/aclpub2/aclpub2/templates/proceedings.tex'\n",
        "template_file = open(template_path, 'r')\n",
        "lines_template_file = template_file.readlines()\n",
        "# Update main script to add path so it can import \"local\" modules\n",
        "with codecs.open(template_path, 'w', 'utf-8') as f:\n",
        "  for line in lines_template_file:\n",
        "    if line.startswith(r'%\\usepackage[T1]{fontenc}'):\n",
        "      f.write(r'\\usepackage[T1]{fontenc}')\n",
        "      f.write('\\n')\n",
        "    elif line.startswith(r'\\usepackage[T5]{fontenc}'):\n",
        "      f.write(r'%\\usepackage[T5]{fontenc}')\n",
        "      f.write('\\n')\n",
        "    elif line.startswith(r'\\usepackage[english,latin]{babel}'):\n",
        "      f.write(r'\\usepackage[english]{babel}')\n",
        "      f.write('\\n')\n",
        "    else:\n",
        "      f.write(line)\n",
        "\n",
        "# import sys\n",
        "# sys.path.insert(0,'/content/aclpub2')\n",
        "\n",
        "# Generates the proceedings.\n",
        "# ! /content/aclpub2/bin/generate /content/aclpub2/examples/sigdial --proceedings --overwrite\n",
        "! /content/aclpub2/bin/generate /content/proceedings --proceedings --overwrite\n",
        "\n",
        "# # Generates both and overwrites the existing contents of the build directory.\n",
        "# ! '/content/aclpub2/bin/generate' examples/sigdial --proceedings --handbook --overwrite"
      ],
      "metadata": {
        "id": "6g_k84ZEVJ95"
      },
      "execution_count": null,
      "outputs": []
    },
    {
      "cell_type": "code",
      "source": [
        "!zip -r genchal23-proceedings.zip /content/build/"
      ],
      "metadata": {
        "id": "WLZP1PgMuo68"
      },
      "execution_count": null,
      "outputs": []
    },
    {
      "cell_type": "code",
      "source": [],
      "metadata": {
        "id": "_mCKqmV2fLC_"
      },
      "execution_count": null,
      "outputs": []
    }
  ]
}